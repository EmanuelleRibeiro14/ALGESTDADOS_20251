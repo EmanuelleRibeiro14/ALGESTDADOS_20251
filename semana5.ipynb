{
  "nbformat": 4,
  "nbformat_minor": 0,
  "metadata": {
    "colab": {
      "provenance": [],
      "authorship_tag": "ABX9TyPh5wP2R31QE8Qwo/8N4Y5s",
      "include_colab_link": true
    },
    "kernelspec": {
      "name": "python3",
      "display_name": "Python 3"
    },
    "language_info": {
      "name": "python"
    }
  },
  "cells": [
    {
      "cell_type": "markdown",
      "metadata": {
        "id": "view-in-github",
        "colab_type": "text"
      },
      "source": [
        "<a href=\"https://colab.research.google.com/github/EmanuelleRibeiro14/ALGESTDADOS_20251/blob/main/semana5.ipynb\" target=\"_parent\"><img src=\"https://colab.research.google.com/assets/colab-badge.svg\" alt=\"Open In Colab\"/></a>"
      ]
    },
    {
      "cell_type": "code",
      "execution_count": null,
      "metadata": {
        "colab": {
          "base_uri": "https://localhost:8080/"
        },
        "id": "PGHH0wNpV4ZU",
        "outputId": "b216953f-734e-4be2-f89a-1f240bc2577d"
      },
      "outputs": [
        {
          "output_type": "stream",
          "name": "stdout",
          "text": [
            "qual o lado 1: 2\n",
            "qual o lado 2: 2\n",
            "qual o lado 3: 2\n",
            "esse triangulo é equilatero\n"
          ]
        }
      ],
      "source": [
        "# 1. Peça ao usuário três lados de um triângulo e classifique-o como equilátero, isósceles ou escaleno.\n",
        "l1 = float(input('qual o lado 1: '))\n",
        "l2 = float(input('qual o lado 2: '))\n",
        "l3 = float(input('qual o lado 3: '))\n",
        "if l1 == l2 == l3:\n",
        "  print('esse triangulo é equilatero')\n",
        "elif l1 == l2 or l2 == l3 or l1 == l3:\n",
        "  print('esse triangulo é isosceles')\n",
        "else:\n",
        "  print('esse triangulo é escaleno')\n"
      ]
    },
    {
      "cell_type": "code",
      "source": [
        "# 2. Peça ao usuário um horário no formato 24h (por exemplo, 13:45) e converta para o formato 12h com AM/PM.\n",
        "from datetime import datetime\n",
        "horario = input('digite a hora desejada (HH:MM): ')\n",
        "hora = int(datetime.strptime(horario, '%H:%M').hour)\n",
        "minuto = int(datetime.strptime(horario, '%H:%M').minute)\n",
        "if hora > 12:\n",
        "  hora = hora-12\n",
        "  print(f'{hora}:{minuto} PM')\n",
        "elif hora == 12:\n",
        "  print(f'{horario} PM')\n",
        "else:\n",
        "  print(f'{horario} AM')"
      ],
      "metadata": {
        "colab": {
          "base_uri": "https://localhost:8080/"
        },
        "id": "JMBNlqmveJL2",
        "outputId": "9182378b-276e-44c3-8656-e83c80493249"
      },
      "execution_count": null,
      "outputs": [
        {
          "output_type": "stream",
          "name": "stdout",
          "text": [
            "digite a hora desejada (HH:MM): 12:30\n",
            "12:30 PM\n"
          ]
        }
      ]
    },
    {
      "cell_type": "code",
      "source": [
        "# 3. Solicite a idade de um nadador e classifique-o em uma categoria:\n",
        "idade = int(input('Digite a idade do nadador: '))\n",
        "if idade <= 7:\n",
        "  print(f'o nadador é da categoria mirim.')\n",
        "elif idade <= 10:\n",
        "  print(f'o nadador é da categoria infantil.')\n",
        "elif idade <= 13:\n",
        "  print(f'o nadador é da categoria juvenil.')\n",
        "elif idade <= 17:\n",
        "  print(f'o nadador é da categoria júnior.')\n",
        "else:\n",
        "  print(f'o nadador é da categoria sênior.')"
      ],
      "metadata": {
        "id": "fhbkx2RxmpLq",
        "colab": {
          "base_uri": "https://localhost:8080/"
        },
        "outputId": "f2b5b64e-cf87-491c-bd96-7d3ea3a0d8ab"
      },
      "execution_count": null,
      "outputs": [
        {
          "output_type": "stream",
          "name": "stdout",
          "text": [
            "Digite a idade do nadador: 20\n",
            "o nadador é da categoria sênior.\n"
          ]
        }
      ]
    },
    {
      "cell_type": "code",
      "source": [
        "# 4. Simule uma partida de Pedra, Papel e Tesoura entre o usuário e o computador (sem aleatoriedade, o jogador deve escolher as duas opções).\n",
        "player1 = input('Digite a sua jogada (PD - Pedra / PL - Papel / TS - Tesoura): ')\n",
        "player2 = input('Digite a sua jogada (PD - Pedra / PL - Papel / TS - Tesoura): ')\n",
        "if player1 == player2:\n",
        "  print('Deuce')\n",
        "elif (player1 == 'pd' and player2 == 'ts') or (player1 == 'p1' and player2 == 'pd') or (player1 == 'ts' and player2 == 'pl'):\n",
        "  print('Player 1 venceu')\n",
        "else:\n",
        "  print('Player 2 venceu')\n"
      ],
      "metadata": {
        "colab": {
          "base_uri": "https://localhost:8080/"
        },
        "id": "3NX_XnDz-7hq",
        "outputId": "ea7d9d89-22d4-44bf-bb55-c69b793a1be4"
      },
      "execution_count": null,
      "outputs": [
        {
          "output_type": "stream",
          "name": "stdout",
          "text": [
            "Digite a sua jogada (PD - Pedra / PL - Papel / TS - Tesoura): ts\n",
            "Digite a sua jogada (PD - Pedra / PL - Papel / TS - Tesoura): pl\n",
            "Player 1 venceu\n"
          ]
        }
      ]
    },
    {
      "cell_type": "code",
      "source": [],
      "metadata": {
        "id": "PivO8MVIIZLs"
      },
      "execution_count": null,
      "outputs": []
    }
  ]
}