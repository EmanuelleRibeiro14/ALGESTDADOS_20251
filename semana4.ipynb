{
  "nbformat": 4,
  "nbformat_minor": 0,
  "metadata": {
    "colab": {
      "provenance": [],
      "authorship_tag": "ABX9TyMVlnuL47Qw+d+Ld8X9U/3+",
      "include_colab_link": true
    },
    "kernelspec": {
      "name": "python3",
      "display_name": "Python 3"
    },
    "language_info": {
      "name": "python"
    }
  },
  "cells": [
    {
      "cell_type": "markdown",
      "metadata": {
        "id": "view-in-github",
        "colab_type": "text"
      },
      "source": [
        "<a href=\"https://colab.research.google.com/github/EmanuelleRibeiro14/ALGESTDADOS_20251/blob/main/semana4.ipynb\" target=\"_parent\"><img src=\"https://colab.research.google.com/assets/colab-badge.svg\" alt=\"Open In Colab\"/></a>"
      ]
    },
    {
      "cell_type": "code",
      "execution_count": null,
      "metadata": {
        "colab": {
          "base_uri": "https://localhost:8080/"
        },
        "id": "aGfruCcDXNlf",
        "outputId": "7388673b-9efd-474e-95b4-fa5960b99d3c"
      },
      "outputs": [
        {
          "output_type": "stream",
          "name": "stdout",
          "text": [
            "digite um numero2\n",
            "2 não é maior que 10.\n"
          ]
        }
      ],
      "source": [
        "# 1- Peça um número e informe se ele é maior que 10. Crie um algoritmo em Python para fazer essa verificação.\n",
        "numero = int(input('digite um numero'))\n",
        "if numero > 10:\n",
        "  print(f'{numero} é maior que 10.')\n",
        "else:\n",
        "  print(f'{numero} não é maior que 10.')\n"
      ]
    },
    {
      "cell_type": "code",
      "source": [
        "# 2- Peça um número inteiro e informe se ele é par. Crie um algoritmo em Python que verifique se o número é divisível por 2.\n",
        "numero = int(input('digite um numero: '))\n",
        "if numero %2== 0:\n",
        "  print(f'{numero} é par.')\n",
        "else:\n",
        "  print(f'{numero} é impar.')"
      ],
      "metadata": {
        "colab": {
          "base_uri": "https://localhost:8080/"
        },
        "id": "QSAEE_IbZ1e_",
        "outputId": "dade40bf-ab17-4203-9293-79fe538883d4"
      },
      "execution_count": null,
      "outputs": [
        {
          "output_type": "stream",
          "name": "stdout",
          "text": [
            "digite um numero: 2\n",
            "2 é par.\n"
          ]
        }
      ]
    },
    {
      "cell_type": "code",
      "source": [
        "# 3 - Peça um nome e informe se ele contém a letra \"a\". Crie um algoritmo em Python que faça essa verificação.\n",
        "nome = input( 'digite um nome: ')\n",
        "if \"a\" in nome :\n",
        "  print( 'contem a letra A')\n",
        "else:\n",
        "  print('não contem a letra A')"
      ],
      "metadata": {
        "colab": {
          "base_uri": "https://localhost:8080/"
        },
        "id": "OSdjwmzibJXf",
        "outputId": "43b166b7-a380-419b-de37-6b200846cacc"
      },
      "execution_count": null,
      "outputs": [
        {
          "output_type": "stream",
          "name": "stdout",
          "text": [
            "digite um nome: bolo\n",
            "não contem a letra A\n"
          ]
        }
      ]
    },
    {
      "cell_type": "code",
      "source": [
        "# 4 - Peça um número e informe se ele é múltiplo de 5. Crie um algoritmo em Python que verifique se o número é divisível por 5.\n",
        "numero = int( input( 'digite um numero' ))\n",
        "if numero % 5 == 0:\n",
        "  print(f'{numero} o numero é multiplo de 5.')\n",
        "else:\n",
        "  print(f'{numero} o numero nao é multiplo de 5.')"
      ],
      "metadata": {
        "colab": {
          "base_uri": "https://localhost:8080/"
        },
        "id": "dzVoa9MCeeSq",
        "outputId": "4769319d-66c0-41ca-9643-f40d455c011c"
      },
      "execution_count": null,
      "outputs": [
        {
          "output_type": "stream",
          "name": "stdout",
          "text": [
            "digite um numero10\n",
            "10 o numero é multiplo de 5.\n"
          ]
        }
      ]
    },
    {
      "cell_type": "code",
      "source": [
        "# 5 - Peça a temperatura atual e informe se está quente (acima de 30°C) ou frio (30°C ou menos). Crie um algoritmo em Python para essa verificação.\n",
        "temp= float (input('qual a temperatura em graus celsius'))\n",
        "if temp > 30:\n",
        "  print('está quente')\n",
        "else:\n",
        "  print('nao entá quente')"
      ],
      "metadata": {
        "colab": {
          "base_uri": "https://localhost:8080/"
        },
        "id": "qJVALKFKhNGl",
        "outputId": "7cd528f6-84b6-418a-b90e-22ecd6ca02ee"
      },
      "execution_count": null,
      "outputs": [
        {
          "output_type": "stream",
          "name": "stdout",
          "text": [
            "qual a temperatura em graus celsius33\n",
            "está quente\n"
          ]
        }
      ]
    },
    {
      "cell_type": "code",
      "source": [
        "# 6 - Peça ao usuário para digitar \"S\" para continuar ou \"N\" para sair e informe a ação correspondente. Crie um algoritmo em Python que faça essa validação e exiba a mensagem correta.\n",
        "wuw= input('deseja continuar a ação? S/N')\n",
        "wuw= wuw.upper()\n",
        "if 'S' in wuw:\n",
        "  print('continuando ação')\n",
        "elif 'N' in wuw:\n",
        "  print('cancelando ação')\n",
        "else:\n",
        "  print('resposta inválida')"
      ],
      "metadata": {
        "colab": {
          "base_uri": "https://localhost:8080/"
        },
        "id": "4AfYHJL7k2MW",
        "outputId": "bb471be6-58e5-4345-c7af-311df82d918d"
      },
      "execution_count": null,
      "outputs": [
        {
          "output_type": "stream",
          "name": "stdout",
          "text": [
            "deseja continuar a ação? S/NS\n",
            "continuando ação\n"
          ]
        }
      ]
    },
    {
      "cell_type": "code",
      "source": [
        "# 7 - Peça um número e informe se ele é negativo, zero ou positivo. Crie um algoritmo em Python para classificar o número.\n",
        "num= float(input('qual o numero?'))\n",
        "if num > 0:\n",
        "  print('esse numero é positivo')\n",
        "elif num == 0:\n",
        "  print('esse numero é 0')\n",
        "else:\n",
        "  print('esse numero é negativo')"
      ],
      "metadata": {
        "colab": {
          "base_uri": "https://localhost:8080/"
        },
        "id": "ZC3j0XKqmY9S",
        "outputId": "3d92d305-2994-4835-928a-4cfa19a02b09"
      },
      "execution_count": null,
      "outputs": [
        {
          "output_type": "stream",
          "name": "stdout",
          "text": [
            "qual o numero?-2\n",
            "esse numero é negativo\n"
          ]
        }
      ]
    },
    {
      "cell_type": "code",
      "source": [
        "# 8 - Peça um número de 1 a 7 e informe o dia da semana correspondente. Crie um algoritmo em Python que associe o número ao dia correto.\n",
        "ds= int(input('qual o dia da semana (de 1  7)'))\n",
        "if ds == 1:\n",
        "  print('é domingo')\n",
        "elif ds == 2:\n",
        "  print('é segunda')\n",
        "elif ds == 3:\n",
        "  print('é terça')\n",
        "elif ds == 4:\n",
        "  print('é quarta')\n",
        "elif ds == 5:\n",
        "  print('é quinta')\n",
        "elif ds == 6:\n",
        "  print('é sexta')\n",
        "elif ds == 7:\n",
        "  print('é sabado')\n",
        "else:\n",
        "  print('numero nao valido')"
      ],
      "metadata": {
        "id": "xyjejvHinytN",
        "colab": {
          "base_uri": "https://localhost:8080/"
        },
        "outputId": "3bd87b8b-78ba-4789-ddc0-a3898b72f079"
      },
      "execution_count": null,
      "outputs": [
        {
          "output_type": "stream",
          "name": "stdout",
          "text": [
            "qual o dia da semana (de 1  7)5\n",
            "é quinta\n"
          ]
        }
      ]
    },
    {
      "cell_type": "code",
      "source": [
        "# 9 - Peça um ano e informe se ele é bissexto. Crie um algoritmo em Python que verifique se o ano é divisível por 4 e não por 100, exceto se também for divisível por 400.\n",
        "y= int(input('qual o ano?'))\n",
        "if y%400 == 0:\n",
        "  print('ano é bissexto')\n",
        "elif y%100 == 0:\n",
        "  print('ano nao é bissexto')\n",
        "elif y%4 == 0:\n",
        "  print('ano é bissexto')\n",
        "else:\n",
        "  print('ano nao é bissexto')"
      ],
      "metadata": {
        "colab": {
          "base_uri": "https://localhost:8080/"
        },
        "id": "smwUbQwZ68Ox",
        "outputId": "77bef409-2b4c-40e9-ebce-6976beea0ab4"
      },
      "execution_count": null,
      "outputs": [
        {
          "output_type": "stream",
          "name": "stdout",
          "text": [
            "qual o ano?2024\n",
            "ano é bissexto\n"
          ]
        }
      ]
    },
    {
      "cell_type": "code",
      "source": [
        "# 10 - Peça a quantidade de horas trabalhadas e o valor por hora. Se trabalhou até 40 horas, calcule o salário normalmente (horas × valor por hora). Se trabalhou mais de 40 horas, as horas extras devem ter um adicional de 50% (horas extras × valor por hora × 1.5). Crie um algoritmo em Python que realize esse cálculo corretamente.\n",
        "horas_trabalhadas= int(input('horas trabalhadas: '))\n",
        "valor_hora = float(input('valor/hora: '))\n",
        "salario = horas_trabalhadas * valor_hora\n",
        "if horas_trabalhadas > 40:\n",
        "  hora_extra = (horas_trabalhadas - 40)\n",
        "  salario = (40 * valor_hora) + (hora_extra * 1.5 * valor_hora)\n",
        "print(f'seu salario é: R$ {salario:.2f}')"
      ],
      "metadata": {
        "colab": {
          "base_uri": "https://localhost:8080/"
        },
        "id": "4OB_dEMd8xAE",
        "outputId": "27e49999-bb12-43c4-9d09-9b9aab35736a"
      },
      "execution_count": null,
      "outputs": [
        {
          "output_type": "stream",
          "name": "stdout",
          "text": [
            "horas trabalhadas: 41\n",
            "valor/hora: 10\n",
            "seu salario é: R$ 415.00\n"
          ]
        }
      ]
    }
  ]
}